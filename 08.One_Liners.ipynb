{
 "cells": [
  {
   "cell_type": "markdown",
   "metadata": {},
   "source": [
    "### One Liners ###\n",
    "\n",
    "- Hvordan bruger man python list comprehensions?\n",
    "- Hvordan bruger man python lambda expressions?\n",
    "- Hvordan bruger man ternary operators?\n",
    "- Hvordan arbejder man med funktioner/functions?\n",
    "- Hvordan arbejde man med boolean logik?\n",
    "- Hvad er det grundlæggende ved python virtual environment? Hvordan bruger man det gennem terminalen og i en notebook?"
   ]
  }
 ],
 "metadata": {
  "language_info": {
   "name": "python"
  }
 },
 "nbformat": 4,
 "nbformat_minor": 2
}
