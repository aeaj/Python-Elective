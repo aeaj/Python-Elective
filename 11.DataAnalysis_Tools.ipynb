{
 "cells": [
  {
   "cell_type": "markdown",
   "metadata": {},
   "source": [
    "### Datanalyse i Pandas - ###\n",
    "\n",
    "- Hvad er biblioterkerne/libraries Numpy, Pandas og Matplotlib?\n",
    "\n",
    "- Hvordan bruger man Numpy, Pandas, Matplotlib?"
   ]
  }
 ],
 "metadata": {
  "kernelspec": {
   "display_name": ".venv",
   "language": "python",
   "name": "python3"
  },
  "language_info": {
   "name": "python",
   "version": "3.11.9"
  }
 },
 "nbformat": 4,
 "nbformat_minor": 2
}
