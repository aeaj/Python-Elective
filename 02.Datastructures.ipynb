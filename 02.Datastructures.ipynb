{
 "cells": [
  {
   "cell_type": "markdown",
   "metadata": {},
   "source": [
    "### Datastrukturer ###\n",
    "\n",
    "- Hvad er de fire datastrukturer? Hvad er forskellen mellem dem?\n",
    "\n",
    "- Hvordan arbejder man med de 4 datastrukturer ved at bruge indeks og slicing syntaks?\n",
    "\n",
    "- Hvordan opretter man lister vha. list comprehensions?"
   ]
  },
  {
   "cell_type": "markdown",
   "metadata": {},
   "source": [
    "De 4 væsentlige datastrukturer:\n",
    "- Lists\n",
    "- Tuples\n",
    "- Dictionaries\n",
    "- Sets"
   ]
  },
  {
   "cell_type": "markdown",
   "metadata": {},
   "source": [
    "Liste\n",
    "- Sekvens datastruktur der opstilles i rækkefølge \n",
    "- Bruges til sortering hvor rækkefølgen kan ændres\n",
    "- Fleksibel, kan tilføje, slette og ændre data\n",
    "- Fri til at indsætte flere datatyper i samme liste\n",
    "- Hvordan skriver man en liste?\n",
    "    - [] eller list()\n",
    "    - F.eks: ['Danmark', 'Sverige']\n",
    "- Starter i '0' istedet for '1'\n",
    "- Bruger mere hukommelse\n",
    "- Loop ?\n",
    "- Container type?\n",
    "- Opret?\n",
    "- Index?\n",
    "- Slicing?"
   ]
  },
  {
   "cell_type": "code",
   "execution_count": null,
   "metadata": {},
   "outputs": [],
   "source": [
    "#For at se metoder til datastrukturen?\n",
    "dir(list)"
   ]
  },
  {
   "cell_type": "code",
   "execution_count": null,
   "metadata": {},
   "outputs": [
    {
     "data": {
      "text/plain": [
       "[1, 2, 3, 4, 5]"
      ]
     },
     "execution_count": 2,
     "metadata": {},
     "output_type": "execute_result"
    }
   ],
   "source": [
    "#Definer en variabel, opret en liste og gem det i variablen\n",
    "l = [1, 2, 3, 4]\n",
    "\n",
    "#Tilføj et nyt element i listen\n",
    "l.append(5) \n",
    "\n",
    "#Output/Vis listen\n",
    "l"
   ]
  },
  {
   "cell_type": "code",
   "execution_count": null,
   "metadata": {},
   "outputs": [
    {
     "data": {
      "text/plain": [
       "[1, 2, 5, 5, 5, 5, 3, 4]"
      ]
     },
     "execution_count": 6,
     "metadata": {},
     "output_type": "execute_result"
    }
   ],
   "source": [
    "#Tilføj et nyt element et hvilket som helst sted i forrige liste\n",
    "\n",
    "#Tiløjer 5 i index 2 [0, 1, 2, 3, 4...]\n",
    "l.insert(2, 5)  # Adds 5 at index 2\n",
    "\n",
    "l\n"
   ]
  },
  {
   "cell_type": "code",
   "execution_count": 11,
   "metadata": {},
   "outputs": [
    {
     "data": {
      "text/plain": [
       "[1, 2, 3, 4]"
      ]
     },
     "execution_count": 11,
     "metadata": {},
     "output_type": "execute_result"
    }
   ],
   "source": [
    "#Slet element i forrige liste\n",
    "\n",
    "l.remove(5)  # Adds 5 at index 2\n",
    "\n",
    "l"
   ]
  },
  {
   "cell_type": "code",
   "execution_count": 1,
   "metadata": {},
   "outputs": [
    {
     "name": "stdout",
     "output_type": "stream",
     "text": [
      "1\n",
      "2\n",
      "3\n",
      "4\n"
     ]
    }
   ],
   "source": [
    "#Slicing \n",
    "l = [1, 2, 3, 4]\n",
    "l[1:3] #slicing\n",
    "\n",
    "for i in l:\n",
    "    print(i)"
   ]
  },
  {
   "cell_type": "markdown",
   "metadata": {},
   "source": [
    "## Tupel ##\n",
    "- Fastlagt strukturet sekvens datastruktur\n",
    "- Imutable, rækkefølgen på elementer kan ikke ændres som en liste\n",
    "- Forskellige datatyper ?\n",
    "- Hurtigere end datastruktur: liste\n",
    "- Bruger mindre hukommelse\n",
    "- Fordel i fastlagte data: \n",
    "-  Følsomme personoplysninger, album info, koordinater, osv...\n",
    "- Hvordan skriver man en tupel?\n",
    "    - ()\n",
    "    - F.eks: ('a',)\n",
    "\n",
    "- Sequence Type\n",
    "    - (1, 'Claus', 'Bove', True)"
   ]
  },
  {
   "cell_type": "code",
   "execution_count": null,
   "metadata": {},
   "outputs": [],
   "source": [
    "#Metode for tuple\n",
    "dir(tuple)"
   ]
  },
  {
   "cell_type": "code",
   "execution_count": null,
   "metadata": {},
   "outputs": [
    {
     "name": "stdout",
     "output_type": "stream",
     "text": [
      "10\n",
      "Claus\n"
     ]
    }
   ],
   "source": [
    "#Loop i en liste\n",
    "t = (10, 'Claus')\n",
    "\n",
    "for i in t:\n",
    "    print(i)\n"
   ]
  },
  {
   "cell_type": "code",
   "execution_count": null,
   "metadata": {},
   "outputs": [],
   "source": [
    "student = ('Claus', 51, 'male', 'clbo@kea.dk', '31011970-1313')\n",
    "\n",
    "for i in student:\n",
    "    print(i)\n",
    "\n",
    "#Listen kan ikke ændres"
   ]
  },
  {
   "cell_type": "code",
   "execution_count": null,
   "metadata": {},
   "outputs": [],
   "source": [
    "car_brands = ('Bmw', 'Toyota', 'Hyundai', 'Skoda', 'Fiat', 'Volvo')\n",
    "\n",
    "for i in car_brands:\n",
    "    print(i.upper())\n",
    "    #print(i.lower())\n",
    "    #print(i.title())\n",
    "\n",
    "#Listen kan ændres \n"
   ]
  },
  {
   "cell_type": "code",
   "execution_count": null,
   "metadata": {},
   "outputs": [],
   "source": [
    "#List af tupler\n",
    "locations = [\n",
    "    (40.730610, -73.935242, \"New York City, NY, USA\"),\n",
    "    (31.739847, 65.755920, \"Kandahar, Kandahar Province, Afghanistan\")\n",
    "]\n",
    "\n",
    "for i in locations:\n",
    "    print(i)"
   ]
  },
  {
   "cell_type": "markdown",
   "metadata": {},
   "source": [
    "Dictionaries\n",
    "- Key values pairs of data\n",
    "- Stores all data in a single object as {'Keys':'Values'}\n",
    "- Inputs er vores keys, og outputs er vores værdier.\n",
    ", Feks. {'Person': 'AJ'}\n",
    "- Fleksibel. Værdier i dictionary kan have alle datatype og duplikeres på nær Keys\n",
    "- Kets er Immutable. Kan indeholde tubples, strings og tal på nær en liste. \n",
    "- Bruger hashing\n",
    "- Kan i visse tilfælde betragtes som en array.\n",
    "- JSON\n",
    "    -json.dumps(d) ?"
   ]
  },
  {
   "cell_type": "code",
   "execution_count": null,
   "metadata": {},
   "outputs": [],
   "source": [
    "#Dictionary Example in posting in Social Media\n",
    "\n",
    "post = { \n",
    "    'user_id':'209', \n",
    "    'message': 'Merry Christmas', 'language':'English', \n",
    "    'datetime':'04022025', \n",
    "    'location':(44.533454, -104.123432)\n",
    "    }\n",
    "#{'Keys':'Values'}\n",
    "\n",
    "print(post)"
   ]
  },
  {
   "cell_type": "code",
   "execution_count": null,
   "metadata": {},
   "outputs": [],
   "source": [
    "#Dictionary Class example with a constructor\n",
    "\n",
    "#Du kan oprette et dictionary uden brug af '' til dine keywords\n",
    "post = dict(message='Testing class dictionaries', language='English')\n",
    "#print(post)\n",
    "\n",
    "#Du kan tilføje nye data til ovenstående constructor\n",
    "#Brug [''] = til at tilføje nye nøgleord og værdier\n",
    "#['Keys'] = Values\n",
    "post['user_id'] = 209\n",
    "post['datetime'] = '04022025'\n",
    "print(post)\n"
   ]
  },
  {
   "cell_type": "code",
   "execution_count": null,
   "metadata": {},
   "outputs": [],
   "source": [
    "#Acessing data in dictionaries\n",
    "\n",
    "post = dict(message='Acessing data in dictionaries', language='English')\n",
    "#print(post['message'])\n",
    "\n",
    "#Printing data that is not in the dictionary gives a 'KeyError'\n",
    "#print(post['location'])\n",
    "\n",
    "#Define a logic to show that the key is or is not in the dictionary\n",
    "if 'location' in post:\n",
    "    print(post['location'])\n",
    "else:\n",
    "    print('The post does not contain a location value.')\n",
    "\n",
    "#Another way to code the logic for the above:\n",
    "#Why? I dont know\n",
    "try:\n",
    "     print(post['location'])\n",
    "except KeyError:\n",
    "        print('The post does not contain a location value.')\n",
    "\n"
   ]
  },
  {
   "cell_type": "code",
   "execution_count": null,
   "metadata": {},
   "outputs": [],
   "source": [
    "dir(post)"
   ]
  },
  {
   "cell_type": "code",
   "execution_count": 12,
   "metadata": {},
   "outputs": [],
   "source": [
    "d = {\n",
    "    'name':'Claus', 'age':12, 'length' : len\n",
    "}"
   ]
  },
  {
   "cell_type": "code",
   "execution_count": null,
   "metadata": {},
   "outputs": [],
   "source": [
    "import json\n",
    "\n",
    "jd = json.dumps(d)\n",
    "\n",
    "jd"
   ]
  },
  {
   "cell_type": "markdown",
   "metadata": {},
   "source": [
    "### Set ###\n",
    "\n",
    "- En kollektion af kun unikke data\n",
    "- Store non-duplicate items\n",
    "- Meget hurtigere tilgængelighed end datastruktur: List\n",
    "- Kan overskrive mange af de samme værdier i en kollektion og lave det om til en unikt værdi\n",
    "- Rækkefølge/struktur er irrelevant\n",
    "- Metoder:\n",
    "    dir(example)\n",
    "    dir(prime)\n",
    "    len() #Ser antal data i kollektionen\n",
    "- Kan koble flere kollektioner sammen\n",
    "- Unions\n",
    "- Intersections\n",
    "\n",
    "\n"
   ]
  },
  {
   "cell_type": "code",
   "execution_count": null,
   "metadata": {},
   "outputs": [],
   "source": [
    "#Set \n",
    "l = [1, 2, 3, 4, 4, 8, 6, 5, 3]\n",
    "l[1:3] #slicing\n",
    "\n",
    "for i in l:\n",
    "    pass\n",
    "\n",
    "s = set(l)\n",
    "s, "
   ]
  },
  {
   "cell_type": "markdown",
   "metadata": {},
   "source": [
    "Opgave 1 - \n",
    "The following data should be presented as either a list or a tuple, or as a combination of both.\n",
    "Your job is to choose the right one.\n",
    "Hint: A list is a collection of the same type of data, a tuple is a record (e.g. in a database a record is called a row)\n",
    "\n",
    "1. Claus, 51, male, clbo@kea.dk, 31011970-1313\n",
    "2. Bmw, Toyota, Hyundai, Skoda, Fiat, Volvo\n",
    "3. Claus, Henning, Torben, Carl, Tine\n",
    "4. 'Hello', 'World', 'Huston', 'we', 'are', 'here'\n",
    "5. Rolling Stones, Goats Head Soup, 31 August 1973, 46:56\n",
    "6. 40.730610, -73.935242, New York City, NY, USA; 31.739847, 65.755920, Kandahar, Kandahar Province, Afghanistan;"
   ]
  },
  {
   "cell_type": "markdown",
   "metadata": {},
   "source": [
    "Opgave 2 - Slicing\n",
    "\n",
    "By using the slicing syntax change the following collections.\n",
    "\n",
    "After slicing:\n",
    "\n",
    "['Hello', 'World', 'Huston', 'we', 'are', 'here'] should become -> ['World', 'Huston', 'we', 'are']\n",
    "['Hello', 'World', 'Huston', 'we', 'are', 'here'] -> ['Hello', 'World']\n",
    "['Hello', 'World', 'Huston', 'we', 'are', 'here'] -> ['are', 'here']\n",
    "['Hello', 'World', 'Huston', 'we', 'are', 'here'] -> ['are']\n",
    "['Hello', 'World', 'Huston', 'we', 'are', 'here'] -> ['Hello', 'Huston', 'are']\n",
    "['Hello', 'World', 'Huston', 'we', 'are', 'here'] -> ['here', 'are', 'we', 'Huston', 'World', 'Hello']\n",
    "('Hello', 'World', 'Huston', 'we', 'are', 'here') should become -> ['World', 'Huston', 'we', 'are']\n",
    "'Hello World Huston we are here' -> 'World Huston we'\n",
    "\n",
    "Figure out more on your own and practice this a lot!"
   ]
  },
  {
   "cell_type": "markdown",
   "metadata": {},
   "source": [
    "Loops\n",
    "- foreach\n",
    "- Built in functions: enumerate, range"
   ]
  },
  {
   "cell_type": "code",
   "execution_count": null,
   "metadata": {},
   "outputs": [],
   "source": [
    "#range\n",
    "for i in range(1, 9):\n",
    "    print(i)"
   ]
  },
  {
   "cell_type": "code",
   "execution_count": null,
   "metadata": {},
   "outputs": [],
   "source": [
    "#Enumerate\n",
    "for i in enumerate(['Claus', 'Bent', 'Torben']):\n",
    "    #print(i)\n",
    "    print(i[0])\n",
    "    print(i[1])"
   ]
  },
  {
   "cell_type": "markdown",
   "metadata": {},
   "source": [
    "List Comprehension"
   ]
  },
  {
   "cell_type": "code",
   "execution_count": null,
   "metadata": {},
   "outputs": [],
   "source": [
    "#Eksempel\n",
    "l = []\n",
    "for i in [1, 2, 3, 4]:\n",
    "    if i%2==0:\n",
    "        l.append(i**2)\n",
    "\n",
    "l\n"
   ]
  },
  {
   "cell_type": "code",
   "execution_count": null,
   "metadata": {},
   "outputs": [],
   "source": [
    "#Hurtigere måde at skrive det på fra ovenstående eksempel\n",
    "[i**2 for i in [1, 2, 3, 4] if i%2 == 0 ]"
   ]
  },
  {
   "cell_type": "markdown",
   "metadata": {},
   "source": [
    "Opgave 5 - List Comprehensive\n",
    "\n",
    "1. Lav en liste af store bogstaver i det engelske alfabet\n",
    "\n",
    "2. Lav en liste af store bogstaver fra det engelske alfabet, men udelad 4 med Unicode-kodepunktet enten 70, 75, 80, 85.\n",
    "\n",
    "3. Lav en liste af store bogstaver fra det engelske alfabet, men udelad hvert andet bogstav mellem F & O"
   ]
  },
  {
   "cell_type": "code",
   "execution_count": null,
   "metadata": {},
   "outputs": [],
   "source": [
    "#Opgave 1 - Store bogstaver fra den engelske alfabet\n",
    "[ chr(i) for i in range(65,91)]\n",
    "#chr hentes fra Built in Function Modellen"
   ]
  },
  {
   "cell_type": "code",
   "execution_count": null,
   "metadata": {},
   "outputs": [],
   "source": [
    "#Opgave 2 - Store bogstaver fra den engelske alfabet\n",
    "[ chr(i) for i in range(65,91) if i not in [70, 75, 80, 90]   ]\n",
    "#chr hentes fra Built in Function Modellen\n",
    "#Lav en loop der generer en liste"
   ]
  },
  {
   "cell_type": "code",
   "execution_count": null,
   "metadata": {},
   "outputs": [],
   "source": [
    "#Opgave 3 \n",
    "[ chr(i) for i in range(65,91) if not (i >= 70 and i <= 79 and (i - 70) % 2 ==0)] \n",
    "#chr hentes fra Built in Function Modellen\n",
    "#Lav en loop der generer en liste"
   ]
  }
 ],
 "metadata": {
  "kernelspec": {
   "display_name": ".venv",
   "language": "python",
   "name": "python3"
  },
  "language_info": {
   "codemirror_mode": {
    "name": "ipython",
    "version": 3
   },
   "file_extension": ".py",
   "mimetype": "text/x-python",
   "name": "python",
   "nbconvert_exporter": "python",
   "pygments_lexer": "ipython3",
   "version": "3.11.9"
  }
 },
 "nbformat": 4,
 "nbformat_minor": 2
}
