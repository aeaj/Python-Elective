{
 "cells": [
  {
   "cell_type": "markdown",
   "metadata": {},
   "source": [
    "Hvad er tekstfiler?\n",
    "\n",
    "Hvad er forskellen mellem tekst- og binær filer?\n",
    "Tekst filer indeholder blot\n",
    "- Tekst\n",
    "- XML\n",
    "- JSON\n",
    "- Source Code\n",
    "\n",
    "Binær filer indeholder:\n",
    "- Compilerede kode\n",
    "- App data\n",
    "- Mediefiler, heriblandt billeder, lyd og video\n",
    "\n"
   ]
  },
  {
   "cell_type": "markdown",
   "metadata": {},
   "source": [
    "(Bemærk: Følgende kommando prompts er muligvis skrevet i git bash, og bør redigeres hvis brug af andre terminaler)\n",
    "\n",
    "I terminalen kan du ved at indtaste python, får et overblik over help funktionen. Eksempelvis, kan vi bruge:\n",
    "\n",
    "'python'\n",
    "'help(open)\n",
    "\n",
    "for at danne et overblik over hvordan vi åbner en fil/file og dens type/mode.\n",
    "\n",
    "Eftersom kan vi oprette en tekst fil, samt nogle metoder for at gemme, åbne og lukke ved følgende:\n",
    "\n",
    "- Opret en mappe ved navn: Text_Filer\n",
    "- Indtast 'dir' i terminalen for at sikre sig at mappen findes\n",
    "- Opret derefter en tekst fil ved ' vim guido_bio.txt' hvor vim åbner og redigere tekstfiler, som nævnt guido_bio.\n",
    "- Herefter åbnes filen, hvor der kan skrives eller indsættes noget tekst. Husk at gemme og indtast exit() \n",
    "- indtast efterfølgende 'python', gøre følgende for at udfylde metoderne:\n",
    ">>> f = open('guido_bio.txt')\n",
    "\n",
    ">>> f.close()\n",
    "\n",
    ">>> print(text)\n",
    "\n",
    "Der er en hurtigere metode som bruger mindre data ved at:\n",
    ">>> with open('guido_bio.txt') as fobj:\n",
    "\n",
    "... bio = fobj.read()\n",
    "\n",
    ">>> print(bio) \n",
    "\n",
    "Hvad sker der hvis du åbner en fil der ikke findes?\n",
    "- Du får vist en fejl, og det kan vises pænere ved at lave følgende:\n",
    "\n",
    "try:\n",
    "    with open('file_not_found.txt') as f:\n",
    "    text = f.read()\n",
    "except FileNotFoundError:\n",
    "    text = None\n",
    "\n",
    "print(text)\n",
    "\n",
    "- Når koden bliver eksekveret, vil der vises en 'None' istedet for fejlkode. Du kan erstatte filens navn med en eksisterende fil, for at teste om det reelt virker."
   ]
  },
  {
   "cell_type": "code",
   "execution_count": null,
   "metadata": {},
   "outputs": [],
   "source": [
    "#Opret en liste med nogle parametre, og opret det som en tekst fil\n",
    "oceans = ['Pacific', 'Atlantic', 'Indian', 'Southern', 'Artic']\n",
    "\n",
    "with open('oceans.txt', 'w') as f:\n",
    "    for ocean in oceans:\n",
    "        f.write(ocean)\n",
    "        #f.write('\\n') for lodret visning\n",
    "\n",
    "#Åben filen ved at skrive 'vim oceans.txt\n",
    "#Filen burde nu vises"
   ]
  },
  {
   "cell_type": "code",
   "execution_count": null,
   "metadata": {},
   "outputs": [],
   "source": [
    "#En anden måde at skrive det på, som vises lodretvis\n",
    "oceans = ['Pacific', 'Atlantic', 'Indian', 'Southern', 'Artic']\n",
    "\n",
    "with open('oceans.txt', 'w') as f:\n",
    "    for ocean in oceans:\n",
    "        print(ocean, file=f)\n",
    "#Åben filen ved at skrive 'vim oceans.txt og det vises lodretvis"
   ]
  },
  {
   "cell_type": "code",
   "execution_count": null,
   "metadata": {},
   "outputs": [],
   "source": [
    "#For at åbne en tekstfil uden at overskrive forrige tekst fil\n",
    "oceans = ['Pacific', 'Atlantic', 'Indian', 'Southern', 'Artic']\n",
    "\n",
    "with open('oceans.txt', 'w') as f:\n",
    "    for ocean in oceans:\n",
    "        print(ocean, file=f)\n",
    "\n",
    "with open('oceans.txt', 'a') as f:\n",
    "    print(23*'=', file=f)\n",
    "    print('These are the 5 oceans.', file=f)\n",
    "#Tekst filen vil nu blive redigeret med ovenstående nederst i filen"
   ]
  }
 ],
 "metadata": {
  "language_info": {
   "name": "python"
  }
 },
 "nbformat": 4,
 "nbformat_minor": 2
}
