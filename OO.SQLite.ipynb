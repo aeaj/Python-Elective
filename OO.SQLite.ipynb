{
 "cells": [
  {
   "cell_type": "markdown",
   "metadata": {},
   "source": [
    "Hvad er SQLite og hvordan bruges det?\n",
    "- Det er en database som bruges til moderat mængder af data, og kan bruges til forskellige enheder.\n",
    "\n",
    "Hvordan beskytter vi en database mod sql-injections?\n",
    "\n",
    "Hvordan gør vi brug af SQLite database i samarbejde med en lille CRUD projekt?\n",
    "\n",
    "\n"
   ]
  },
  {
   "cell_type": "code",
   "execution_count": null,
   "metadata": {},
   "outputs": [],
   "source": [
    "# Importere sqlite version 3\n",
    "import sqlite3\n",
    "\n",
    "#Connect to a (new) existing database\n",
    "conn = sqlite3.connect(r'C:\\\\Users\\\\André Jensen\\\\Documents\\\\Visual Studio Code\\\\Python\\\\Introduktion\\\\database\\\\alpha.db')\n",
    "\n",
    "# Create a cursor\n",
    "cur = conn.cursor()\n",
    "\n",
    "# Test Data\n",
    "names_list = [\n",
    "    ('Roderick', 'Watson'),\n",
    "    ('Roger', 'Hom'),\n",
    "    ('Petri', 'Halonen'),\n",
    "    ('Jussi', ''),\n",
    "    ('James', 'McCann'),\n",
    "]\n",
    "\n",
    "# Insert data into database\n",
    "# executemany er en metode der laver ændringer\n",
    "cur.executemany('''\n",
    "                INSERT INTO people (first_name, last_name) VALUES (?, ?)\n",
    "                ''', names_list)\n",
    "# connection bruges tilat commit data\n",
    "conn.commit()\n",
    "\n",
    "# #Create a 'people' table\n",
    "# cur.execute('''CREATE TABLE IF NOT EXISTS people\n",
    "#                 (first_name TEXT, last_name TEXT)''')\n",
    "# conn.commit()\n",
    "\n",
    "#Close Connection\n",
    "cur.close()\n",
    "conn.close()"
   ]
  }
 ],
 "metadata": {
  "kernelspec": {
   "display_name": "Python 3",
   "language": "python",
   "name": "python3"
  },
  "language_info": {
   "codemirror_mode": {
    "name": "ipython",
    "version": 3
   },
   "file_extension": ".py",
   "mimetype": "text/x-python",
   "name": "python",
   "nbconvert_exporter": "python",
   "pygments_lexer": "ipython3",
   "version": "3.12.2"
  }
 },
 "nbformat": 4,
 "nbformat_minor": 2
}
