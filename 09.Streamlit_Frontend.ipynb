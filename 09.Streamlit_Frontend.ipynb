{
 "cells": [
  {
   "cell_type": "markdown",
   "metadata": {},
   "source": [
    "### Streamlit FrontEnd ###\n",
    "\n",
    "- Hvad er det grundlæggende ved Streamlit?\n",
    "\n",
    "- Hvordan kan man lave et MVP med Streamlit?"
   ]
  },
  {
   "cell_type": "markdown",
   "metadata": {},
   "source": [
    "#### Overblik over Streamlit.io ####\n",
    "\n",
    "Hvad er det?\n",
    "- Open-Source framework der kan oprette en brugergrænseflade til dataanalyse og maskinlæring, uden kompleks kode.\n",
    "\n",
    "Hvilke egenskaber har frameworket?\n",
    "- Kan oprettes vha. python script\n",
    "- Ikke nødvendigvis brug for frontend programmering, som HTML og JS\n",
    "- Interaktivitet med data vha. knapper, dropdown-menuer, m.m.\n",
    "- Hurtig automatisk opdatering i browseren i reel tid.\n",
    "- Kan integreres med andre biblioteker/libraries: Pandas, Numpy, MatPlotlib, m.m.\n",
    "\n",
    "Hvordan bruger man det?\n",
    "\n",
    "- Installerer frameworket først, og følg derefter vejledning fra følgende kilde:\n",
    "https://docs.streamlit.io/get-started/installation/command-line"
   ]
  }
 ],
 "metadata": {
  "kernelspec": {
   "display_name": "venv",
   "language": "python",
   "name": "python3"
  },
  "language_info": {
   "name": "python",
   "version": "-1.-1.-1"
  }
 },
 "nbformat": 4,
 "nbformat_minor": 2
}
