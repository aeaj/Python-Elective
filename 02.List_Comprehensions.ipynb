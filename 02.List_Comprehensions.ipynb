{
 "cells": [
  {
   "cell_type": "markdown",
   "metadata": {},
   "source": [
    "# List Comprehensions #"
   ]
  },
  {
   "cell_type": "markdown",
   "metadata": {},
   "source": [
    "### Hvordan opretter man lister vha. list comprehensions? ###\n",
    "\n",
    "Quiz: Data"
   ]
  },
  {
   "cell_type": "code",
   "execution_count": 15,
   "metadata": {},
   "outputs": [
    {
     "name": "stdout",
     "output_type": "stream",
     "text": [
      "[0, 1, 2, 3, 4, 5, 6, 7, 8, 9]\n",
      "[0, 1, 2, 3, 4, 5, 6, 7, 8, 9]\n",
      "[1, 2, 3, 4, 5, 6, 7, 8, 9, 10]\n"
     ]
    }
   ],
   "source": [
    "#Basic code snippet\n",
    "values = []\n",
    "for x in range(10):\n",
    "    values.append(x)\n",
    "\n",
    "print(values)\n",
    "\n",
    "#Using list comprehension\n",
    "#Writing a for-loop inside a list\n",
    "\n",
    "values = [x for x in range(10)]\n",
    "print(values)\n",
    "\n",
    "#Moving data up by one, as it starts with 0 in a list\n",
    "\n",
    "values = [x + 1 for x in range(10)]\n",
    "print(values)"
   ]
  },
  {
   "cell_type": "markdown",
   "metadata": {},
   "source": [
    "Comprehension Condition\n",
    "- Get all the even numbers from 0 - 50"
   ]
  },
  {
   "cell_type": "code",
   "execution_count": 16,
   "metadata": {},
   "outputs": [
    {
     "name": "stdout",
     "output_type": "stream",
     "text": [
      "[0, 2, 4, 6, 8]\n",
      "[0, 2, 4, 6, 8]\n"
     ]
    }
   ],
   "source": [
    "#Basic Code snippet\n",
    "evens = []\n",
    "for number in range(10):\n",
    "    is_even = number % 2 == 0\n",
    "    if is_even:\n",
    "        evens.append(number)\n",
    "print(evens)\n",
    "\n",
    "#Comprehensive condition\n",
    "evens = [number for number in range(10) if number % 2 == 0] #% = Modulus operator\n",
    "print(evens)"
   ]
  },
  {
   "cell_type": "markdown",
   "metadata": {},
   "source": [
    "Comprehension with multiple conditions\n",
    "- String that start with \"a\" and ends with \"y\""
   ]
  },
  {
   "cell_type": "code",
   "execution_count": 2,
   "metadata": {},
   "outputs": [
    {
     "name": "stdout",
     "output_type": "stream",
     "text": [
      "['any', 'albany']\n",
      "['any', 'albany']\n"
     ]
    }
   ],
   "source": [
    "#Basic code snippet\n",
    "options = ['any', 'albany', 'apple', 'world', 'hello', '']\n",
    "valid_strings = []\n",
    "\n",
    "for string in options:\n",
    "    if len(string) <= 1:\n",
    "        continue\n",
    "    \n",
    "    if string[0] != 'a':\n",
    "        continue\n",
    "\n",
    "    if string[-1] != 'y':\n",
    "        continue\n",
    "\n",
    "    valid_strings.append(string)\n",
    "\n",
    "print(valid_strings)\n",
    "\n",
    "#Comprehension with multiple conditions\n",
    "#Another way to code it in a more easy to read way\n",
    "valid_strings = [\n",
    "    string\n",
    "    for string in options\n",
    "    if len(string) >= 2\n",
    "    if string[0] == 'a'\n",
    "    if string[-1] == 'y'\n",
    "]\n",
    "\n",
    "print(valid_strings)"
   ]
  },
  {
   "cell_type": "markdown",
   "metadata": {},
   "source": [
    "Multiple list comprehension\n",
    "- Flattening a matrix (list of lists)"
   ]
  },
  {
   "cell_type": "code",
   "execution_count": null,
   "metadata": {},
   "outputs": [],
   "source": [
    "#Basic code snippet\n",
    "matrix = [[1, 2, 3], [4, 5, 6], [7, 8, 9]]\n",
    "flattened = []\n",
    "\n",
    "for row in matrix:\n",
    "    for num in row:\n",
    "        flattened.append(num)\n",
    "print(flattened)\n",
    "\n",
    "#List comprehension\n",
    "flattened = [num for row in matrix for num in row]\n",
    "print(flattened)\n"
   ]
  },
  {
   "cell_type": "markdown",
   "metadata": {},
   "source": [
    "If/Else in a Comprehension\n",
    "- Categorize numbers as even or odd"
   ]
  },
  {
   "cell_type": "code",
   "execution_count": 9,
   "metadata": {},
   "outputs": [
    {
     "name": "stdout",
     "output_type": "stream",
     "text": [
      "['Even', 'Odd', 'Even', 'Odd', 'Even', 'Odd', 'Even', 'Odd', 'Even', 'Odd']\n",
      "['Even', 'Odd', 'Even', 'Odd', 'Even', 'Odd', 'Even', 'Odd', 'Even', 'Odd']\n"
     ]
    }
   ],
   "source": [
    "#BCS\n",
    "categories = []\n",
    "\n",
    "for number in range(10):\n",
    "    if number % 2 == 0:\n",
    "        categories.append('Even')\n",
    "    else:\n",
    "        categories.append('Odd')\n",
    "\n",
    "print(categories)\n",
    "\n",
    "#In a Comprehension\n",
    "categories = [\n",
    "    'Even' if x % 2 == 0 else 'Odd' for x in range(10)\n",
    "]\n",
    "\n",
    "print(categories)"
   ]
  },
  {
   "cell_type": "markdown",
   "metadata": {},
   "source": [
    "Nested list comprehension\n",
    "- Building a 3-Dimensional list"
   ]
  },
  {
   "cell_type": "code",
   "execution_count": 19,
   "metadata": {},
   "outputs": [
    {
     "name": "stdout",
     "output_type": "stream",
     "text": [
      "[[[0, 1, 2], [0, 1, 2], [0, 1, 2]], [[0, 1, 2], [0, 1, 2], [0, 1, 2]], [[0, 1, 2], [0, 1, 2], [0, 1, 2]]]\n",
      "[[[0, 1, 2], [0, 1, 2], [0, 1, 2]], [[0, 1, 2], [0, 1, 2], [0, 1, 2]], [[0, 1, 2], [0, 1, 2], [0, 1, 2]]]\n"
     ]
    }
   ],
   "source": [
    "#BCS\n",
    "lst = []\n",
    "for a in range(3):\n",
    "    l1 = []\n",
    "    for b in range(3):\n",
    "        l2 = []\n",
    "        for num in range(3):\n",
    "            l2.append(num)\n",
    "        l1.append(l2)\n",
    "    lst.append(l1)\n",
    "print(lst)\n",
    "\n",
    "#CL\n",
    "lst2 = [[[num for num in range(3)] for _ in range (3)] for _ in range (3)]\n",
    "print(lst2)"
   ]
  },
  {
   "cell_type": "markdown",
   "metadata": {},
   "source": [
    "Transformation in comprehension\n",
    "- List comprehension with functions"
   ]
  },
  {
   "cell_type": "code",
   "execution_count": 35,
   "metadata": {},
   "outputs": [
    {
     "name": "stdout",
     "output_type": "stream",
     "text": [
      "[0, 1, 4, 9, 16, 25, 36, 49, 64, 81]\n"
     ]
    }
   ],
   "source": [
    "def square(x):\n",
    "    return x**2 # ** opløftet i anden potens for tal fra 1 - 10\n",
    "\n",
    "squared_numbers = [square(x) for x in range(10)] \n",
    "\n",
    "print(squared_numbers)"
   ]
  },
  {
   "cell_type": "markdown",
   "metadata": {},
   "source": [
    "Dictionary Comprehension\n",
    "- Creating a dictionary"
   ]
  },
  {
   "cell_type": "code",
   "execution_count": 36,
   "metadata": {},
   "outputs": [
    {
     "name": "stdout",
     "output_type": "stream",
     "text": [
      "{'a': 1, 'b': 2, 'c': 3}\n"
     ]
    }
   ],
   "source": [
    "#DC with tuples in a list ('Keys', values)\n",
    "pairs = [('a', 1), ('b', 2), ('c', 3)]\n",
    "\n",
    "dict = {k: v for k, v in pairs}\n",
    "print(dict)\n"
   ]
  },
  {
   "cell_type": "markdown",
   "metadata": {},
   "source": [
    "Set Comprehension\n",
    "- Removing duplicates from a list while aplying a function"
   ]
  },
  {
   "cell_type": "code",
   "execution_count": 40,
   "metadata": {},
   "outputs": [
    {
     "name": "stdout",
     "output_type": "stream",
     "text": [
      "{16, 1, 4, 9}\n"
     ]
    }
   ],
   "source": [
    "nums = [1, 2, 2, 3, 3, 3, 4, 4, 4, 4]\n",
    "\n",
    "unique_squares = {x**2 for x in nums}\n",
    "\n",
    "print(unique_squares)"
   ]
  },
  {
   "cell_type": "markdown",
   "metadata": {},
   "source": [
    "Generator Comprehension"
   ]
  },
  {
   "cell_type": "code",
   "execution_count": 42,
   "metadata": {},
   "outputs": [
    {
     "name": "stdout",
     "output_type": "stream",
     "text": [
      "333332833333500000\n",
      "333332833333500000\n"
     ]
    }
   ],
   "source": [
    "sum_of_squares = sum(x**2 for x in range(1000000))\n",
    "\n",
    "print(sum_of_squares)\n",
    "\n",
    "sum_of_squares2 = sum([x**2 for x in range(1000000)])\n",
    "\n",
    "print(sum_of_squares2)"
   ]
  }
 ],
 "metadata": {
  "kernelspec": {
   "display_name": "Python 3",
   "language": "python",
   "name": "python3"
  },
  "language_info": {
   "codemirror_mode": {
    "name": "ipython",
    "version": 3
   },
   "file_extension": ".py",
   "mimetype": "text/x-python",
   "name": "python",
   "nbconvert_exporter": "python",
   "pygments_lexer": "ipython3",
   "version": "3.12.2"
  }
 },
 "nbformat": 4,
 "nbformat_minor": 2
}
