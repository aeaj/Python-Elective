{
 "cells": [
  {
   "cell_type": "markdown",
   "metadata": {},
   "source": [
    "Klasser og objekter\n",
    "\n",
    "Hvad er en klasse, instancer, fields og metoder/initialization og hvordan bruges de?\n",
    "Hvordan er en help tekst nyttigt?\n",
    "\n",
    "-En klasse i Python er en brugerdefineret skabelon til at skabe objekter. Det samler data og funktioner sammen, hvilket gør det nemmere at administrere og bruge dem. \n",
    "\n",
    "Hvordan opretter vi dem?\n",
    "\n",
    "-Når man opretter en klasse, opretter man en type objekt. Atributter er variable defineret inde i klassen, og repræsenterer klassens egenskab.\n",
    "\n",
    "Materiale: https://www.youtube.com/watch?v=apACNr7DC_s "
   ]
  },
  {
   "cell_type": "code",
   "execution_count": null,
   "metadata": {},
   "outputs": [
    {
     "name": "stdout",
     "output_type": "stream",
     "text": [
      "Dave\n",
      "Bowman\n",
      "Frank Poole\n"
     ]
    }
   ],
   "source": [
    "#Opret klasse:\n",
    "class User: #Definer en klasse\n",
    "    pass #Klassen er tom for nu\n",
    "\n",
    "#Opret objekt fra klassen\n",
    "user1 = User() #Opretter en instans af User-klassen\n",
    "user1.first_name = 'Dave' #Opret klasse-attributer\n",
    "user1.last_name = 'Bowman' #Opret klasse-attributer\n",
    "\n",
    "user2 = User()\n",
    "user2.first_name = 'Frank'\n",
    "user2.last_name = 'Poole'\n",
    "\n",
    "print(user1.first_name) #Output: Dave\n",
    "print(user1.last_name) #Output: Bowman\n",
    "print(user2.first_name, user2.last_name)\n"
   ]
  },
  {
   "cell_type": "code",
   "execution_count": null,
   "metadata": {},
   "outputs": [
    {
     "name": "stdout",
     "output_type": "stream",
     "text": [
      "49\n"
     ]
    }
   ],
   "source": [
    "#Funktion i en klasse er kaldt for metode\n",
    "import datetime\n",
    "\n",
    "class User:\n",
    "    '''This class represents a user with a full name and a birthday.\n",
    "    It splits the full name into first and last names.\n",
    "    '''\n",
    "    def __init__(self, full_name, birthday):\n",
    "        ''' Initializes the User class with a full name and birthday.\n",
    "        Args:\n",
    "        full_name (str): The full name of the user.\n",
    "        birthday (str): The birthday of the user.\n",
    "        Also called a method'''\n",
    "\n",
    "        self.name = full_name #Opret objekt med en værdi\n",
    "        self.birthday = birthday #Opret objekt med en værdi\n",
    "\n",
    "        #Extract first and last names\n",
    "        name_pieces = full_name.split(' ')\n",
    "        self.first_name = name_pieces[0]\n",
    "        self.last_name = name_pieces[-1]\n",
    "    \n",
    "    def age(self):\n",
    "        '''Return the age of the user in years\n",
    "        by creating another method'''\n",
    "        today = datetime.date(2025, 2, 23)\n",
    "        yyyy = int(self.birthday[0:4])\n",
    "        mm = int(self.birthday[4:6])\n",
    "        dd = int(self.birthday[6:8])\n",
    "        dob = datetime.date(yyyy, mm, dd) #Date of birth\n",
    "        age_in_days = (today - dob).days\n",
    "        age_in_years = age_in_days / 365\n",
    "        return int(age_in_years)\n",
    "\n",
    "#Opret bruger-instans uden for klassen        \n",
    "user = User('Dave bowman', '19750715')\n",
    "print(user.age())\n",
    "    \n",
    "# print(user.name)\n",
    "# print(user.first_name)\n",
    "# print(user.last_name)\n",
    "# print(user.birthday)\n",
    "\n",
    "#Vil vise docstring, dvs. det udkommenterede afsnit i outputtet.\n",
    "#help(User)\n"
   ]
  }
 ],
 "metadata": {
  "kernelspec": {
   "display_name": "Python 3",
   "language": "python",
   "name": "python3"
  },
  "language_info": {
   "codemirror_mode": {
    "name": "ipython",
    "version": 3
   },
   "file_extension": ".py",
   "mimetype": "text/x-python",
   "name": "python",
   "nbconvert_exporter": "python",
   "pygments_lexer": "ipython3",
   "version": "3.12.2"
  }
 },
 "nbformat": 4,
 "nbformat_minor": 2
}
