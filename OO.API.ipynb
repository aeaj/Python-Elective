{
 "cells": [
  {
   "cell_type": "markdown",
   "metadata": {},
   "source": [
    "Hvad er en API (Application Programming Interface)?\n",
    "- \n",
    "Hvad er en JSON (JavaScript Object Notation)?\n",
    "\n",
    "Hvordan bruges en API og en JSON?\n",
    "\n",
    "Hvad er HTTP-metoder, og hvordan bruges de forskellige routes i en CRUD Projekt?\n",
    "\n",
    "- Hyper Text Transfer Protocol kommunikere mellem klient enheder, som f.eks. en web browser og en web server. Forespørgslerne heriblandt metoderne inkluder: \n",
    "- GET (Henter data), \n",
    "- POST (Sender/ændrer data til den oprindelise resource/server), \n",
    "- PUT (Overskriver/erstatter data i en resource), \n",
    "- DELETE (Sletter angivne resource), \n",
    "- PATCH (Anvender delvise ændrigner af en resource)\n",
    "- Der findes andre typer af HTTP-forespørgsler, men de ovenstående er de mest brugte og er også kendt som CRUD operatøre.\n",
    "\n",
    "Hvad er POSTMAN, og hvordan testes en API ifbm. HTTP-Requests?\n",
    "- POSTMAN er en API klient der gør det nemt at teste, skabe, dele og dokumentere API'er. Med udgangspunkt i den første obligatorisk opgave, tester man HTTP-forespørgsler og API'er, ved at:\n",
    "- Åben Postman\n",
    "- Vælg \"POST\" metode\n",
    "- indsæt URL: http://127.0.0.1:5000/api/members\n",
    "- Gå til \"Body\" -> Vælg \"Raw\" -> vælg JSON-format\n",
    "- Indsæt nye medlem-data i form af JSON-data\n",
    "- Klik Send\n",
    "- Output vil returnere det nye oprettede medlem som JSON\n",
    "\n",
    "- For at sikre sig at det nye medlem er oprettede korrekt, tester man det ved at skifte metoden i POSTMAN til \"GET\"\n",
    "- Brug samme URL \n",
    "- Sørg for Body er = None og uden for JSON formattet\n",
    "- Klik på send\n",
    "- Output vil nu vise den nye oprettede medlem i den oprindelig URL adresse\n",
    "\n",
    "- For at opdater en af de medlemmerne bruger vi \"PUT\" metoden\n",
    "- Skift til \"PUT\" metoden\n",
    "- Indsæt den enkeltes url adresse: http://127.0.0.1:5000/api/members/2\n",
    "- Vælg Body -> Raw -> JSON format og indsæt det nye opdaterede data\n",
    "- Klik Send\n",
    "- Tilgå url adressen og de nye opdaterede oplysninger vil nu finde sted. \n",
    "\n",
    "- Slet medlem ved at skfite metoden til \"DELETE\"\n",
    "- Indsæt den enkeltes url adresse: http://127.0.0.1:5000/api/members/2\n",
    "- Tryk \"Send\" og medlemmet er nu slettet ved at der opstår en besked med at \"Member with ID 2 deleted\"\n",
    "\n",
    "Sådan tester man de hovedsagelige Http-request metoder. Bemærk at hver gang du har sendt en forespørgsel/anmodning vil der vises en status kode, samt beskeder i terminalen.\n",
    "\n",
    "\n",
    "Hvordan valider og fejl-håndtedere http-metoder?\n",
    "- Ved at tage udgangspunkt i den obligatorisk opgave, fejltester vi ved at oprette en if-statement der håndterer fejlen ved at eksempelvis:\n",
    "- Sende et POST-request i Postman igen med manglende data"
   ]
  }
 ],
 "metadata": {
  "kernelspec": {
   "display_name": "Python 3",
   "language": "python",
   "name": "python3"
  },
  "language_info": {
   "codemirror_mode": {
    "name": "ipython",
    "version": 3
   },
   "file_extension": ".py",
   "mimetype": "text/x-python",
   "name": "python",
   "nbconvert_exporter": "python",
   "pygments_lexer": "ipython3",
   "version": "3.12.2"
  }
 },
 "nbformat": 4,
 "nbformat_minor": 2
}
