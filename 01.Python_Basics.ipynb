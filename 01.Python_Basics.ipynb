{
 "cells": [
  {
   "cell_type": "markdown",
   "metadata": {
    "vscode": {
     "languageId": "raw"
    }
   },
   "source": [
    "## Introduktion til Python ##\n",
    "\n",
    "- Hvad er det grundlæggende ved et Python udviklingsmiljø?\n",
    "\n",
    "- Hvad er det grundlæggende ved et python script? Hvordan er det struktureret?\n",
    "\n",
    "- Hvordan arbejder man med strings, betingelser, iterationer og funktioner?\n",
    "\n",
    "- Hvad er boolske operatore og logik i python?\n",
    "\n",
    "- Hvad er de grundlæggende byggesten i oop? \n",
    "\n",
    "- Quiz: Basics"
   ]
  },
  {
   "cell_type": "markdown",
   "metadata": {},
   "source": [
    "### Hvad er det grundlæggende ved et Python udviklingsmiljø? ###\n",
    "\n",
    "Editor: fx VS Code eller Jupyter Notebook\n",
    "\n",
    "Terminal: hvor du kører programmer (python script.py)\n",
    "\n",
    "Fejlkontrol og autoudfyldning: hjælper med at skrive korrekt kode\n",
    "\n",
    "Virtuelt miljø (venv): isolerer dine projekter og pakker"
   ]
  },
  {
   "cell_type": "markdown",
   "metadata": {},
   "source": [
    "### Hvad er det grundlæggende ved et python script? Hvordan er det struktureret? ###\n",
    "\n",
    "1. Imports\n",
    "2. Variabler\n",
    "3. Funktioner\n",
    "3. Kørsel - Print eller kald af funktioner"
   ]
  },
  {
   "cell_type": "markdown",
   "metadata": {},
   "source": [
    "### Hvordan arbejder man med strings, betingelser, iterationer og funktioner? ###\n",
    "\n",
    "String:\n",
    "navn = \"AJ\"\n",
    "print(navn)  #AJ er vores defineret streng\n",
    "\n",
    "Betingelser/If-else statement:\n",
    "if alder > 18:\n",
    "    print(\"Voksen\")\n",
    "else:\n",
    "    print(\"Barn\")\n",
    "\n",
    "Iteration/Løkke:\n",
    "for x in range(3):\n",
    "    print(x)\n",
    "\n",
    "\n",
    "Funktioner:\n",
    "def kvadrat(x):\n",
    "    return x * x"
   ]
  },
  {
   "cell_type": "markdown",
   "metadata": {},
   "source": [
    "### Hvad er boolske operatore og logik i python? ###\n",
    "\n",
    "Operator: \n",
    "== er lig med\n",
    "\n",
    "!= er ikke lig med\n",
    "\n",
    "< er mindre end\n",
    "\n",
    "> er større end\n",
    "\n",
    "<= er mindre end eller lig med\n",
    "\n",
    ">= er større end eller lig med\n",
    "\n",
    "and er sand hvis begge er sande\n",
    "\n",
    "or er sand hvis mindst én er sand\n",
    "\n",
    "not omvender sandhedsværdien\n",
    "\n",
    "is tjekker om to ting er samme objekt\n",
    "\n",
    "in tjekker om noget findes i en liste/streng\n",
    "\n",
    "not in tjekker om noget ikke findes"
   ]
  },
  {
   "cell_type": "markdown",
   "metadata": {},
   "source": [
    "### Hvad er de grundlæggende byggesten i oop?  ###\n",
    "\n",
    "- Klasse \n",
    "- Objekt\n",
    "- Attributter\n",
    "- Constructor\n",
    "- Parameter\n",
    "- Metode\n",
    "- Inheritance/Instans\n",
    "- Encapsulation\n",
    "- Inheritance\n",
    "- Polymorfi"
   ]
  },
  {
   "cell_type": "code",
   "execution_count": null,
   "metadata": {},
   "outputs": [
    {
     "name": "stdout",
     "output_type": "stream",
     "text": [
      "AJ has $5000 in the account.\n"
     ]
    }
   ],
   "source": [
    "# Klasse: Grundlæggende kontotype\n",
    "class BankAccount:\n",
    "    # Constructor: Kører automatisk når en instans oprettes\n",
    "    def __init__(self, owner, balance):\n",
    "        # Parametre: owner og balance gives ved oprettelse\n",
    "        self.owner = owner                # Attribut: kontoejer (tilhører objektet)\n",
    "        self._balance = balance           # Encapsulation: \"_\" betyder intern brug\n",
    "\n",
    "    # Metode: Indsæt penge\n",
    "    def deposit(self, amount):\n",
    "        self._balance += amount\n",
    "\n",
    "    # Metode: Hæv penge hvis nok saldo\n",
    "    def withdraw(self, amount):\n",
    "        if amount <= self._balance:\n",
    "            self._balance -= amount\n",
    "        else:\n",
    "            print(\"Insufficient funds.\")\n",
    "\n",
    "    # Metode: Vis saldo\n",
    "    def show_balance(self):\n",
    "        return f\"{self.owner} has ${self._balance} in the account.\"\n",
    "\n",
    "# Inheritance: Ny klasse arver fra BankAccount\n",
    "class SavingsAccount(BankAccount):\n",
    "    # Constructor udvides med ekstra parameter: interest_rate\n",
    "    def __init__(self, owner, balance, interest_rate):\n",
    "        super().__init__(owner, balance)     # super(): kalder forælderens constructor\n",
    "        self.interest_rate = interest_rate   # Ny attribut\n",
    "\n",
    "    # Polymorfi: Overskriver metode fra forælderklasse\n",
    "    def show_balance(self):\n",
    "        return f\"{self.owner}'s savings balance is ${self._balance} with {self.interest_rate}% interest.\"\n",
    "\n",
    "# Objekt (instans): Skaber konto af typen BankAccount\n",
    "aj_checking = BankAccount(\"AJ\", 1000)\n",
    "\n",
    "# Objekt (instans): Skaber konto af typen SavingsAccount (arvet klasse)\n",
    "aj_savings = SavingsAccount(\"AJ\", 5000, 2.5)\n",
    "\n",
    "# Brug metoder (encapsulation: vi tilgår ikke _balance direkte)\n",
    "aj_checking.deposit(200)\n",
    "aj_checking.withdraw(100)\n",
    "\n",
    "# Udskriv information (viser polymorfi: to versioner af samme metode)\n",
    "print(aj_checking.show_balance())  # → AJ has $1100 in the account.\n",
    "print(aj_savings.show_balance())   # → AJ's savings balance is $5000 with 2.5% interest.\n"
   ]
  },
  {
   "cell_type": "code",
   "execution_count": null,
   "metadata": {},
   "outputs": [],
   "source": [
    "#Klasse\n",
    "# En klasse er en skabelon for at skabe objekter\n",
    "class Person:\n",
    "    pass  # 'pass' betyder \"gør ingenting\" midlertidigt \n"
   ]
  },
  {
   "cell_type": "code",
   "execution_count": null,
   "metadata": {},
   "outputs": [],
   "source": [
    "#Objekt\n",
    "class Person:\n",
    "    #Før oprettelse af et objekt, opretter vi en constructor\n",
    "    def __init__(self, name):\n",
    "        #vi gemmer navnet i objektet\n",
    "        self.name = name  \n",
    "\n",
    "# Objekt/instans af klassen Person gemmer AJ som attribut\n",
    "p1 = Person(\"AJ\")\n",
    "\n",
    "#Output/Viser Atribut \n",
    "print(p1.name)      "
   ]
  },
  {
   "cell_type": "code",
   "execution_count": null,
   "metadata": {},
   "outputs": [],
   "source": [
    "#Attribut\n",
    "class Dog:\n",
    "    def __init__(self, breed):\n",
    "        self.breed = breed  # breed er en attribut\n",
    "\n",
    "my_dog = Dog(\"Labrador\")\n",
    "print(my_dog.breed)  # Output: Labrador\n"
   ]
  },
  {
   "cell_type": "code",
   "execution_count": null,
   "metadata": {},
   "outputs": [],
   "source": [
    "class Car:\n",
    "    def __init__(self):\n",
    "        print(\"Et nyt bil-objekt er lavet!\")\n",
    "\n",
    "c = Car()  # Output: Et nyt bil-objekt er lavet!"
   ]
  },
  {
   "cell_type": "code",
   "execution_count": null,
   "metadata": {},
   "outputs": [
    {
     "data": {
      "text/plain": [
       "12"
      ]
     },
     "execution_count": 1,
     "metadata": {},
     "output_type": "execute_result"
    }
   ],
   "source": [
    "a = 12 \n",
    "a #Print variablen"
   ]
  },
  {
   "cell_type": "code",
   "execution_count": null,
   "metadata": {},
   "outputs": [
    {
     "data": {
      "text/plain": [
       "int"
      ]
     },
     "execution_count": 2,
     "metadata": {},
     "output_type": "execute_result"
    }
   ],
   "source": [
    "a = 12\n",
    "type(a) #indbygget funktion for at undersøge hvilken datatype det er"
   ]
  },
  {
   "cell_type": "code",
   "execution_count": null,
   "metadata": {},
   "outputs": [
    {
     "data": {
      "text/plain": [
       "float"
      ]
     },
     "execution_count": 3,
     "metadata": {},
     "output_type": "execute_result"
    }
   ],
   "source": [
    "a = 12.5\n",
    "type(a) #Indbygget funktion Kan bruges flere steder,som følgende"
   ]
  },
  {
   "cell_type": "code",
   "execution_count": null,
   "metadata": {},
   "outputs": [
    {
     "data": {
      "text/plain": [
       "bool"
      ]
     },
     "execution_count": 4,
     "metadata": {},
     "output_type": "execute_result"
    }
   ],
   "source": [
    "a = True\n",
    "type(a) "
   ]
  },
  {
   "cell_type": "code",
   "execution_count": null,
   "metadata": {},
   "outputs": [
    {
     "data": {
      "text/plain": [
       "str"
      ]
     },
     "execution_count": 8,
     "metadata": {},
     "output_type": "execute_result"
    }
   ],
   "source": [
    "a = \"Hello\"\n",
    "type(a)"
   ]
  },
  {
   "cell_type": "code",
   "execution_count": 9,
   "metadata": {},
   "outputs": [
    {
     "data": {
      "text/plain": [
       "5"
      ]
     },
     "execution_count": 9,
     "metadata": {},
     "output_type": "execute_result"
    }
   ],
   "source": [
    "len(a)"
   ]
  },
  {
   "cell_type": "code",
   "execution_count": 3,
   "metadata": {},
   "outputs": [
    {
     "data": {
      "text/plain": [
       "'Hello Stranger'"
      ]
     },
     "execution_count": 3,
     "metadata": {},
     "output_type": "execute_result"
    }
   ],
   "source": [
    "#Funktion med If-Statement\n",
    "def message(name):\n",
    "    if name == \"AJ\":\n",
    "        return \"Hello \" + name\n",
    "    else:\n",
    "        return \"Hello Stranger\"\n",
    "    \n",
    "message (\"Andre\")\n"
   ]
  },
  {
   "cell_type": "code",
   "execution_count": null,
   "metadata": {},
   "outputs": [],
   "source": [
    "dir(str)"
   ]
  },
  {
   "cell_type": "markdown",
   "metadata": {},
   "source": [
    "### Quiz Basics of Indexing and Slicing - FAQ ###\n",
    "\n",
    "'''\n",
    "1. To create a multiline string in Python, you use triple quotes in between lines of code: \"\"\" ... \"\"\" eller ''' ... ''' i python style.\n",
    "\n",
    "2. To create a raw string, you prepend the string literal with r and R letter to prevent the translation of escape sequences.\n",
    "\n",
    "3. Slicing: \n",
    "[Start:stop:step] \n",
    "Start ved index:Stop før index:Spring frem/tilbage mellem start-index\n",
    "Frem Positiv: 0 \n",
    "Tilbage negativ: -1\n",
    "Start ved index:Stop ved index:Spring frem/baglæns mellem start index\n",
    "'''\n",
    "\n",
    "#Variabel: \"Foobar\"\n",
    "3a.\n",
    "s[::-1] = 'raboof'\n",
    "s[::-1][::-5] tager hvert 5. tegn baglæns \n",
    "= 'rf'\n",
    "\n",
    "3b.\n",
    "s[0] + f[-1] = 'r' 'f' \n",
    "= 'rf'\n",
    "\n",
    "3c.\n",
    "s[::-5] = Spring baglæns fra -1 til -5  \n",
    "s[-1] = 'r', \n",
    "s[-6] = 'f' \n",
    "= 'rf'\n",
    "\n",
    "3d.\n",
    "s[::5] = Spring frem fra indeks 1 til 5  \n",
    "s[0] = 'f', \n",
    "s[5] = 'r'  \n",
    "= 'fr'\n",
    "\n",
    "3e.\n",
    "s[::-1][-1] + s[len(s)-1] \n",
    "\n",
    "s[::-1][-1] = Spring baglæns -1 til -1 derfter start i sidste tegn i den nye streng = 'raboof' 'f'\n",
    "s[len(s)-1] = Giv mig sidste tegn i den oprindelig streng 's' = 'r'\n",
    "= 'raboof' 'fr'\n",
    "\n",
    "3f. \n",
    "Øvelse:\n",
    "s = \"dataanalyse\"\n",
    "print(s[:-4])\n",
    "\n",
    "Svar:\n",
    "Ingen startværdi. Stopværdi -4.\n",
    "Starter automatisk fra indeks 0\n",
    "Konverterer s[:-4] til positiv værdi = s[7] = 'l'\n",
    "Stopper før indeks s[7]\n",
    "= 'dataan'\n",
    "\n",
    "4. \n",
    "Write the code for a Python function greet(person), \n",
    "that returns the string \"Hello, my name is <name>.\", \n",
    "with person inserted in place of <name>.\n",
    "Use an f-string to perform the interpolation:\n",
    "\n",
    "Answer:\n",
    "def greet(person):\n",
    "    return f\"Hello, my name is {person}.\"\n",
    "\n",
    "5. \n",
    "How do you format a floating-point number to two decimal places using an f-string in Python?\n",
    "\n",
    "Answer:\n",
    ">>> income = 1234.1234\n",
    ">>> f\"Income: ${income:.2f}\"\n",
    "Income: $1234.12\n",
    "\n",
    "6. \n",
    "What is the output from this print() function call:\n",
    "print(\n",
    "    '$100 $200 $300'.count(\"$\"),\n",
    "    '$100 $200 $300'.count(\"$\", 5, 10),\n",
    "    '$100 $200 $300'.count(\"$\", 5)\n",
    ")\n",
    "\n",
    "Answer:\n",
    ".count() metoden tæller antal substring i $ = 3\n",
    "(5, 10) Antal substring fra indeks 5 til før 10: '$200' = 1\n",
    "(5) Antal substring fra indeks 5 til slutningen: '$200 $300' = 2\n",
    "\n",
    "= 3, 1, 2 \n",
    "\n",
    "7. \n",
    "The .find() method returns -1 if the specified substring isn’t found in the target string:\n",
    "\n",
    "Answer:\n",
    "-1.\n",
    ".index() method returns a ValueError\n",
    "\n",
    "8. \n",
    "What methods can you use to convert the case of characters in a string?\n",
    "\n",
    "Answer:\n",
    ".capitalize()\n",
    ".swapcase()\n",
    ".title()\n",
    ".upper()\n",
    "\n",
    "9. \n",
    "What method do you use to center a string within a given width using a specific fill character in Python?\n",
    "\n",
    "Answer:\n",
    ".center()\n",
    ">>> \"bar\".center(10, \"-\")\n",
    "'---bar----'"
   ]
  }
 ],
 "metadata": {
  "kernelspec": {
   "display_name": ".venv",
   "language": "python",
   "name": "python3"
  },
  "language_info": {
   "codemirror_mode": {
    "name": "ipython",
    "version": 3
   },
   "file_extension": ".py",
   "mimetype": "text/x-python",
   "name": "python",
   "nbconvert_exporter": "python",
   "pygments_lexer": "ipython3",
   "version": "3.11.9"
  }
 },
 "nbformat": 4,
 "nbformat_minor": 2
}
