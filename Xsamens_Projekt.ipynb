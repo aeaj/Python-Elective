{
 "cells": [
  {
   "cell_type": "markdown",
   "id": "03b2edd8",
   "metadata": {},
   "source": [
    "### Eksamens Projekt: Integration af LLM i egen applikation ###\n",
    "\n",
    "Bedømmelse:\n",
    "- Forståelse og anvendelse af Python-koncepter\n",
    "- Kodekvalitet og \"Pythonic\" tilgang\n",
    "- Problemløsning og kreativitet\n",
    "- Præsentationsevner og evnen til at forklare din kode\n",
    "\n",
    "**Viden**\n",
    "\n",
    "Hvor og i hvilke situationer python bliver brugt.\n",
    "En vifte af for python relevante udviklingsværktøjer.\n",
    "Forskellige pythoniske udviklingsmetoder.\n",
    "Forskelle mellem scripting og kompilerede sprog.\n",
    "\n",
    "**Færdigheder**\n",
    "\n",
    "Gøre brug af simple og avancerede elementer fra sproget.\n",
    "Programmere via en pythonisk programmeringsstil.\n",
    "Bruge en vifte af udviklingsværktøjer tilknyttet sproget, her i blandt Jupyter notebooks.\n",
    "Løse abstrakte problemstillinger vha. af python og en pythonisk programeringsstil.\n",
    "Analysere fejlbeskeder og finde løsninger på problemet.\n",
    "Udvikle applikationer vha. code reviews.\n",
    "\n",
    "**Kompetencer**\n",
    "\n",
    "Være i stand til selvstændigt at sætte dig ind i nye emner og foretage litteratursøgninger og finde løsninger på opståede problemer.\n",
    "Være i stand til at perspektivere og relatere til hvad du har lært tidligere på studiet.\n"
   ]
  }
 ],
 "metadata": {
  "kernelspec": {
   "display_name": ".venv",
   "language": "python",
   "name": "python3"
  },
  "language_info": {
   "name": "python",
   "version": "3.11.9"
  }
 },
 "nbformat": 4,
 "nbformat_minor": 5
}
