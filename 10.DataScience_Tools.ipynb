{
 "cells": [
  {
   "cell_type": "markdown",
   "metadata": {},
   "source": [
    "### Datavidenskab i Numpy, Pandas og Matplotlib ###\n",
    "\n",
    "- Hvad er biblioterkerne/libraries Numpy, Pandas og Matplotlib?\n",
    "\n",
    "- Hvordan bruger man Numpy og Matplotlib?"
   ]
  },
  {
   "cell_type": "markdown",
   "metadata": {},
   "source": [
    "### Libraries Definition  ###\n",
    "\n",
    "#### Numpy - Math operations and arrays ####\n",
    "(Lineær Algebra), LaPack (Lineær Algebra), Numerical data, simulation Blas\n",
    "\n",
    "Pros:\n",
    "- Multidimentional array for 1d, 2d and 3d arrays.\n",
    "- Matrix (2d array)\n",
    "- Matematiske operationer\n",
    "- Best for handling big datasets\n",
    "- Linear Algebra and statistics\n",
    "- Numpy is fast, as it uses less bytes of memory\n",
    "- No type checking when iteraing through objects (string, float, ...)\n",
    "- Contiguos memory - Memory scattered together in one place\n",
    "- SIMD Vector processiong\n",
    "- Effective Cache Utilization\n",
    "\n",
    "Different from List:\n",
    "- More flexible in computation \n",
    "\n",
    "Applications:\n",
    "- Matlab replacement\n",
    "- Plotting (Matplotlib)\n",
    "- Backend( Pandas, Connect 4, Digital Photography)\n",
    "- Store pgn images\n",
    "- Machine Learning\n",
    "- \n",
    "\n",
    "\n",
    "F.eks:\n",
    "Computer binær sprog:\n",
    "\n",
    "5 = 00000101 => numpy int32 \n",
    "\n",
    "### Pandas - Data manipulation ###\n",
    "Library used for handling structured data like tables (CSV, Excel, databases) Panel Data, Tabular data, data analyse, methods for loading, reshaping, pivoting, joining, missing data. C, Cyphon.\n",
    "\n",
    "Pros:\n",
    "- Best for table handling, filtering and transforming data\n",
    "- Panel Data, \n",
    "- Tabular data, \n",
    "- Data analyses, \n",
    "- Methods for loading, reshaping, pivoting, joining, missing data. \n",
    "- Used with C, Cyphon.\n",
    "\n",
    "### Matplotlib - Data visualisation ###\n",
    "Used for creating charts and graphs for better data understanding\n",
    "\n",
    "Pros:\n",
    "- Best for data visualization \n",
    "- Best for creating plots, graphs and charts\n",
    "- Best for visualising trends and patterns"
   ]
  },
  {
   "cell_type": "code",
   "execution_count": 6,
   "metadata": {},
   "outputs": [],
   "source": [
    "#Introduction to Numpy\n",
    "\n",
    "import numpy as np"
   ]
  },
  {
   "cell_type": "code",
   "execution_count": 8,
   "metadata": {},
   "outputs": [
    {
     "name": "stdout",
     "output_type": "stream",
     "text": [
      "[1 2 3]\n"
     ]
    }
   ],
   "source": [
    "#Basics:\n",
    "\n",
    "a = np.array([1, 2, 3])\n",
    "print(a)"
   ]
  },
  {
   "cell_type": "code",
   "execution_count": 9,
   "metadata": {},
   "outputs": [
    {
     "name": "stdout",
     "output_type": "stream",
     "text": [
      "[[9. 8. 7.]\n",
      " [6. 5. 4.]]\n"
     ]
    }
   ],
   "source": [
    "b = np.array([[9.0, 8.0, 7.0], [6.0, 5.0, 4.0]])\n",
    "print(b)"
   ]
  },
  {
   "cell_type": "code",
   "execution_count": 10,
   "metadata": {},
   "outputs": [
    {
     "data": {
      "text/plain": [
       "1"
      ]
     },
     "execution_count": 10,
     "metadata": {},
     "output_type": "execute_result"
    }
   ],
   "source": [
    "a.ndim"
   ]
  },
  {
   "cell_type": "code",
   "execution_count": 11,
   "metadata": {},
   "outputs": [
    {
     "data": {
      "text/plain": [
       "(2, 3)"
      ]
     },
     "execution_count": 11,
     "metadata": {},
     "output_type": "execute_result"
    }
   ],
   "source": [
    "b.shape"
   ]
  },
  {
   "cell_type": "code",
   "execution_count": 13,
   "metadata": {},
   "outputs": [
    {
     "data": {
      "text/plain": [
       "dtype('int64')"
      ]
     },
     "execution_count": 13,
     "metadata": {},
     "output_type": "execute_result"
    }
   ],
   "source": [
    "a.dtype"
   ]
  },
  {
   "cell_type": "code",
   "execution_count": 15,
   "metadata": {},
   "outputs": [
    {
     "data": {
      "text/plain": [
       "8"
      ]
     },
     "execution_count": 15,
     "metadata": {},
     "output_type": "execute_result"
    }
   ],
   "source": [
    "a.itemsize"
   ]
  },
  {
   "cell_type": "code",
   "execution_count": 17,
   "metadata": {},
   "outputs": [
    {
     "data": {
      "text/plain": [
       "24"
      ]
     },
     "execution_count": 17,
     "metadata": {},
     "output_type": "execute_result"
    }
   ],
   "source": [
    "# Get total size\n",
    "a.nbytes"
   ]
  }
 ],
 "metadata": {
  "kernelspec": {
   "display_name": ".venv",
   "language": "python",
   "name": "python3"
  },
  "language_info": {
   "codemirror_mode": {
    "name": "ipython",
    "version": 3
   },
   "file_extension": ".py",
   "mimetype": "text/x-python",
   "name": "python",
   "nbconvert_exporter": "python",
   "pygments_lexer": "ipython3",
   "version": "3.11.9"
  }
 },
 "nbformat": 4,
 "nbformat_minor": 2
}
