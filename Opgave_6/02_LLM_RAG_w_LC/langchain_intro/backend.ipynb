{
 "cells": [
  {
   "cell_type": "markdown",
   "id": "a6f0b98f",
   "metadata": {},
   "source": [
    "# LLM with Langchain and RAG using OpenAIs API Key #"
   ]
  },
  {
   "cell_type": "code",
   "execution_count": null,
   "id": "000b292d",
   "metadata": {},
   "outputs": [],
   "source": [
    "# Import necessary frameworks/libraries and Langchain dependencies\n",
    "import os\n",
    "from dotenv import load_dotenv\n",
    "\n",
    "import streamlit as st\n",
    "from langchain.document_loaders import PDFPlumberLoader\n",
    "from langchain.text_splitter import CharacterTextSplitter\n",
    "from langchain.embeddings import OpenAIEmbeddings\n",
    "from langchain.vectorstores import Chroma\n",
    "from langchain.chains import RetrievalQA\n",
    "from langchain.llms import OpenAI"
   ]
  }
 ],
 "metadata": {
  "kernelspec": {
   "display_name": ".venv",
   "language": "python",
   "name": "python3"
  },
  "language_info": {
   "name": "python",
   "version": "3.11.9"
  }
 },
 "nbformat": 4,
 "nbformat_minor": 5
}
