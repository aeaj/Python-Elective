{
 "cells": [
  {
   "cell_type": "markdown",
   "id": "7a6380e7",
   "metadata": {},
   "source": [
    "# LLM with Langchain and RAG using Mistrals API Key #"
   ]
  },
  {
   "cell_type": "markdown",
   "id": "acfd0890",
   "metadata": {},
   "source": [
    "Requirements:\n",
    "Install mistralai: The llm for use \n",
    "Install faiss-cpu: A library for efficient similarity search and clustering of dense vectors.\n",
    "\n",
    "https://pypi.org/project/faiss-cpu/"
   ]
  },
  {
   "cell_type": "code",
   "execution_count": null,
   "id": "ea9ff224",
   "metadata": {},
   "outputs": [],
   "source": [
    "# Import necessary frameworks/libraries and Langchain dependencies\n",
    "\n",
    "# from mistralai import Mistral\n",
    "# import requests\n",
    "# import numpy as np\n",
    "# import faiss\n",
    "# import os\n",
    "# from getpass import getpass"
   ]
  },
  {
   "cell_type": "code",
   "execution_count": null,
   "id": "f6eb41fa",
   "metadata": {},
   "outputs": [],
   "source": [
    "# 2. Load API key from the .env file\n",
    "\n",
    "#api_key= getpass(\"rslpILzoyt62I94UMVuIALjHdHTqQtR5\")\n",
    "#client = Mistral(api_key=api_key)"
   ]
  },
  {
   "cell_type": "markdown",
   "id": "a28d9b77",
   "metadata": {},
   "source": [
    "Sources:\n",
    "\n",
    "Create API in Mistral:\n",
    "https://console.mistral.ai/api-keys\n",
    "\n",
    "Embeddings and API in Mistral:\n",
    "https://docs.mistral.ai/api/#tag/embeddings\n",
    "\n",
    "Rag from Scratch:\n",
    "https://docs.mistral.ai/guides/rag/\n",
    "\n",
    "Text Embeddings:\n",
    "https://docs.mistral.ai/capabilities/embeddings/text_embeddings/\n"
   ]
  }
 ],
 "metadata": {
  "kernelspec": {
   "display_name": ".venv",
   "language": "python",
   "name": "python3"
  },
  "language_info": {
   "codemirror_mode": {
    "name": "ipython",
    "version": 3
   },
   "file_extension": ".py",
   "mimetype": "text/x-python",
   "name": "python",
   "nbconvert_exporter": "python",
   "pygments_lexer": "ipython3",
   "version": "3.11.9"
  }
 },
 "nbformat": 4,
 "nbformat_minor": 5
}
